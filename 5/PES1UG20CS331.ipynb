{
  "cells": [
    {
      "cell_type": "markdown",
      "metadata": {
        "id": "c6sJ6BEOzkKN"
      },
      "source": [
        "# PES University, Bangalore\n",
        "Established under Karnataka Act No. 16 of 2013"
      ]
    },
    {
      "cell_type": "markdown",
      "metadata": {
        "id": "mOlFr-Yjzoxl"
      },
      "source": [
        "UE20CS312 - Data Analytics - Worksheet 5\n",
        "Course instructor: Gowri Srinivasa, Professor Dept. of CSE, PES University\n",
        "\n",
        "Designed by Yashas Kadambi, Dept. of CSE - yashasks@pesu.pes.edu\n",
        "\n",
        "Submitted by: Renita Kurian, PES1UG20CS331"
      ]
    },
    {
      "cell_type": "markdown",
      "metadata": {
        "id": "_GsPyyRnEXzY"
      },
      "source": [
        "# Markov Chains and AB Testing"
      ]
    },
    {
      "cell_type": "markdown",
      "metadata": {
        "id": "a_2sqyzBD8qS"
      },
      "source": [
        "### Prerequisites\n",
        "- Revise the following concepts\n",
        "    - Markov Chains\n",
        "    - Markov Chains with Absorbing states\n",
        "    - Calculation of eventual probability of aborbtion\n",
        "    - A/B Testing\n",
        "- Install the following software\n",
        "    - pandas\n",
        "    - numpy"
      ]
    },
    {
      "cell_type": "markdown",
      "metadata": {
        "id": "RAkRls2vElow"
      },
      "source": [
        "### Points\n",
        "The problems in this worksheet are for a total of 10 points with each problem having a different weightage.\n",
        "- Problem 1: 2 points\n",
        "- Problem 2: 4 points\n",
        "- Problem 3: 4 points"
      ]
    },
    {
      "cell_type": "markdown",
      "metadata": {
        "id": "85iOffRu2nhi"
      },
      "source": [
        "# Scenario 2\n",
        "\n",
        "Its a freezing day in New york, Commisioner Wench has sent a report to Captain Holt that the 99th precinct has much lower reported crimes compared to other precincts. Upon Analysis Captain Holt decides to add feedback unit along with the 4 major units to analyse this descripency. All the units are mentioned below\n",
        "\n",
        "1.   Major Crimes\n",
        "2.   Traffic\n",
        "3.   General crimes\n",
        "4.   Feedback\n",
        "5.   Theft\n",
        "\n",
        "---\n",
        "---\n",
        "<br>\n",
        "\n",
        "The initial probablity of a person going to a particular unit on a particular day is given as follows\n",
        "\n",
        "\n",
        "<br>\n",
        "\n",
        "Major Crimes | Traffic | General crimes | Feedback | Theft\n",
        ":----------: | :-----: | :------------: | :--------: | :---:\n",
        "0.3 | 0.4 | 0.1 | 0.15 | 0.05 \n",
        "<br>\n",
        "\n",
        "\n",
        "To measure how many people will go to the feedback unit, the personel files of all employees are give to the **_Move-o-Tron 99_** and it gives us the following matrix which shows us the probability of people moving from one unit to another on a particular day . It is known that the **_Move-o-Tron 99_** alwasy outputs matices which follow a first order Markov chain. \n",
        "\n",
        "| |Major Crimes|Traffic|General crimes|Feedback|Theft|\n",
        "|---|---|---|---|---|---|\n",
        "|Major Crimes|0\\.002|0\\.666|0\\.31|0\\.0|0\\.022|\n",
        "|Traffic|0\\.466|0\\.102|0\\.222|0\\.0|0\\.21|\n",
        "|General crimes|0\\.022|0\\.11|0\\.502|0\\.0|0\\.366|\n",
        "|Feedback|0\\.0|0\\.0|0\\.0|1\\.0|0\\.0|\n",
        "|Theft|0\\.11|0\\.122|0\\.066|0\\.0|0\\.702|\n",
        "\n",
        "As the people of New York are smart the will learn where all the units are present and hence the next days (day 1) distribution will be the distribution present at the end of the current day (day 0). Captain holt want to check if the matrix given by the **_Move-o-Tron_** can be used to model the footfall.\n",
        "\n"
      ]
    },
    {
      "cell_type": "markdown",
      "metadata": {
        "id": "huFKsPfVqWJC"
      },
      "source": [
        "## Problem 1 (2 points)\n",
        "\n",
        "1. What technique can be used to model the probability of people going to the correct unit to report thier crime after N days? (0 points)\n",
        "2. Is the chain irreducible? Justify (0.5 point)\n",
        "3. What will be the intital probability of a person going to a particular unit after 1 day, 2 days, 10 days, 1000 days and 1001 days. (1 point)\n",
        " \n",
        " Hint: Use the  Chapman−Kolmogorov relationship\n",
        "\n",
        "     ```python\n",
        "    # C = A.B\n",
        "    matrix_C = np.dot(matrix_A, matrix_B)\n",
        "\n",
        "    # C = A.(B^4) can be replaced by\n",
        "    matrix_C = matrix_A\n",
        "    for _ in range(4):\n",
        "        matrix_C = np.dot(matrix_C, matrix_B)\n",
        "    ```\n",
        "\n",
        "4. What can you say about the markov chain from state of intital probability of a person going to a particular unit after 1000 and 1001 days? (0.5 points)"
      ]
    },
    {
      "cell_type": "code",
      "execution_count": 1,
      "metadata": {
        "id": "suNEfAXfy9dA"
      },
      "outputs": [],
      "source": [
        "# Importing Libraries\n",
        "%matplotlib inline\n",
        "import numpy as np\n",
        "import pandas as pd\n",
        "import matplotlib.pyplot as plt\n"
      ]
    },
    {
      "cell_type": "code",
      "execution_count": 2,
      "metadata": {
        "id": "UbQTk1ZMPyNq"
      },
      "outputs": [],
      "source": [
        "# encoding the probabilities as a numpy array\n",
        "trans_array = np.array([\n",
        "    [0.002, 0.666, 0.31, 0, 0.022],\n",
        "    [0.466, 0.102, 0.222, 0, 0.21],\n",
        "    [0.022, 0.11, 0.502, 0, 0.366],\n",
        "    [0, 0, 0, 1, 0],\n",
        "    [0.11, 0.122, 0.066, 0, 0.702]\n",
        "])\n",
        "# ensures that the probabilities sum to 1\n",
        "assert(trans_array[0].sum() == 1.0)\n",
        "assert(trans_array[1].sum() == 1.0)\n",
        "assert(trans_array[2].sum() == 1.0)\n",
        "assert(trans_array[3].sum() == 1.0)\n",
        "assert(trans_array[4].sum() == 1.0)\n",
        "\n",
        "\n",
        "\n",
        "# encoding the initial probability of as a numpy array\n",
        "state = np.array([[0.3, 0.4, 0.1, 0.15, 0.05]])\n",
        "assert(state[0].sum() == 1.0)"
      ]
    },
    {
      "cell_type": "markdown",
      "metadata": {
        "id": "TmnWPiORYeH1"
      },
      "source": [
        "### Answers\n",
        "Q1. Markov Chains is a suitable method  \n",
        "Q2. No, the chain is not irreducible. The Markov Chain is reducible as feedback unit is not communicable."
      ]
    },
    {
      "cell_type": "code",
      "execution_count": 3,
      "metadata": {
        "colab": {
          "base_uri": "https://localhost:8080/"
        },
        "id": "Fure0-9FXKe_",
        "outputId": "b7527086-1922-4187-e48f-bdc5ec624b19"
      },
      "outputs": [
        {
          "name": "stdout",
          "output_type": "stream",
          "text": [
            "[0.1947 0.2577 0.2353 0.15   0.1623]\n"
          ]
        }
      ],
      "source": [
        "# 1 day\n",
        "s1 = np.dot(state, trans_array)\n",
        "print(s1[0])"
      ]
    },
    {
      "cell_type": "code",
      "execution_count": 4,
      "metadata": {
        "colab": {
          "base_uri": "https://localhost:8080/"
        },
        "id": "x4t0O0C3XioZ",
        "outputId": "2aa397de-cd2b-411f-ab19-bc2a4ea9fcd0"
      },
      "outputs": [
        {
          "name": "stdout",
          "output_type": "stream",
          "text": [
            "[0.1435072 0.2016392 0.2463988 0.15      0.2584548]\n"
          ]
        }
      ],
      "source": [
        "# 2 days\n",
        "s2 = np.dot(s1, trans_array)\n",
        "print(s2[0])"
      ]
    },
    {
      "cell_type": "code",
      "execution_count": 5,
      "metadata": {
        "colab": {
          "base_uri": "https://localhost:8080/"
        },
        "id": "XGhcPPSGXs7x",
        "outputId": "f7030613-465a-42fa-9275-007eb7fbe16a"
      },
      "outputs": [
        {
          "name": "stdout",
          "output_type": "stream",
          "text": [
            "[0.12139467 0.16406836 0.1973962  0.15       0.36714077]\n"
          ]
        }
      ],
      "source": [
        "# 10 days\n",
        "s10 = state\n",
        "for i in range(10):\n",
        "  s10 = np.dot(s10, trans_array)\n",
        "print(s10[0])"
      ]
    },
    {
      "cell_type": "code",
      "execution_count": 6,
      "metadata": {
        "colab": {
          "base_uri": "https://localhost:8080/"
        },
        "id": "46ugqLKMX4AG",
        "outputId": "090b5a97-7d00-4a2f-a10e-d6b46e77b1ef"
      },
      "outputs": [
        {
          "name": "stdout",
          "output_type": "stream",
          "text": [
            "[0.1214373  0.16411091 0.19739717 0.15       0.36705462]\n"
          ]
        }
      ],
      "source": [
        "# 1000 days\n",
        "s1000 = state\n",
        "for i in range(1000):\n",
        "  s1000 = np.dot(s1000, trans_array)\n",
        "print(s1000[0])"
      ]
    },
    {
      "cell_type": "code",
      "execution_count": 7,
      "metadata": {
        "colab": {
          "base_uri": "https://localhost:8080/"
        },
        "id": "DKvE8poSX7_V",
        "outputId": "b33b5bbe-47c6-47ce-8ec8-e4431d81adff"
      },
      "outputs": [
        {
          "name": "stdout",
          "output_type": "stream",
          "text": [
            "[0.1214373  0.16411091 0.19739717 0.15       0.36705462]\n"
          ]
        }
      ],
      "source": [
        "# 1001 days\n",
        "s1001 = np.dot(s1000, trans_array)\n",
        "print(s1001[0])"
      ]
    },
    {
      "cell_type": "markdown",
      "metadata": {
        "id": "bw6a73Z1Y_uk"
      },
      "source": [
        "Q3.   \n",
        "1 day - [0.1947 0.2577 0.2353 0.15   0.1623]  \n",
        "2 days -  [0.1435072 0.2016392 0.2463988 0.15 0.2584548]  \n",
        "10 days - [0.12139467 0.16406836 0.1973962  0.15  0.36714077]  \n",
        "1000 days - [0.1214373  0.16411091 0.19739717 0.15 0.36705462]  \n",
        "1001 days - [0.1214373  0.16411091 0.19739717 0.15  0.36705462]  \n",
        "\n",
        "Q4. s1000 = s1001, it is observed that there is no change in probabilities (Stationary)"
      ]
    },
    {
      "cell_type": "markdown",
      "metadata": {
        "id": "sf_CCUyONV-f"
      },
      "source": [
        "---\n",
        "\n",
        "After analysing the model Captain holt calls the squad and educates them to ask people to give feedbacks. And the details of the squad are given to the **_Move-o-Tron 99_**. After reanalyising the report the **_Move-o-Tron 99_** gave out a new Matrix, which is shown below\n",
        "\n",
        "| |Major Crimes|Traffic|General crimes|Feedback|Theft|\n",
        "|---|---|---|---|---|---|\n",
        "|Major Crimes|0\\.002|0\\.666|0\\.01|0\\.02|0\\.302|\n",
        "|Traffic|0\\.466|0\\.102|0\\.02|0\\.032|0\\.38|\n",
        "|General crimes|0\\.0|0\\.0|1\\.0|0\\.0|0\\.0|\n",
        "|Feedback|0\\.0|0\\.0|0\\.0|1\\.0|0\\.0|\n",
        "|Theft|0\\.11|0\\.122|0\\.066|0\\.004|0\\.698|\n",
        "\n",
        "<br>\n",
        "Considering the new report the model has to be re-evaluated. The initial probablity of a person going to a particular unit on a particular day remains the same.\n",
        "<br>\n",
        "\n",
        "\n",
        "\n"
      ]
    },
    {
      "cell_type": "markdown",
      "metadata": {
        "id": "bVIGVQhMUthf"
      },
      "source": [
        "## Problem 2 (4 points)\n",
        "\n",
        "\n",
        "1. Is the chain irreducible? Justify (0.5 point)\n",
        "2. What will be the intital probability of a person going to a particular unit after 1 day, 2 days, 10 days, 1000 days and 1001 days. (1 point)\n",
        " \n",
        " Hint: Use the  Chapman−Kolmogorov relationship\n",
        "\n",
        "3. What can you say about the markov chain from state of intital probability of a person going to a particular unit after 1000 and 1001 days? (0.5 points)\n",
        "\n",
        "\n",
        "4. Summer Edgecombe is Confidential Informant (CI) to the Officer Kimbal Cho and comes in every day to the police station. If on the first day she goes to the Major crimes Unit what will be the probability that she gives a feedback? (2 points)\n",
        "\n",
        "    ```python\n",
        "    # np.delete()\n",
        "    # https://note.nkmk.me/en/python-numpy-delete/#:~:text=Using%20the%20NumPy%20function%20np,from%20the%20NumPy%20array%20ndarray%20.&text=Specify%20the%20axis%20(dimension)%20and,a%20slice%20or%20a%20list.\n",
        "\n",
        "    print(a)\n",
        "    # [[ 0  1  2  3]\n",
        "    #  [ 4  5  6  7]\n",
        "    #  [ 8  9 10 11]]\n",
        "\n",
        "    print(np.delete(a, 1, 0))\n",
        "    # [[ 0  1  2  3]\n",
        "    #  [ 8  9 10 11]]\n",
        "\n",
        "    print(np.delete(a, 1, 1))\n",
        "    # [[ 0  2  3]\n",
        "    #  [ 4  6  7]\n",
        "    #  [ 8 10 11]]\n",
        "\n",
        "    # Deleting multiple rows or columns\n",
        "    print(np.delete(a, [0, 3], 1))\n",
        "    # [[ 1  2]\n",
        "    #  [ 5  6]\n",
        "    #  [ 9 10]]\n",
        "\n",
        "    # Deleting rows and columns\n",
        "    print(np.delete(np.delete(a, 1, 0), 1, 1))\n",
        "    # [[ 0  2  3]\n",
        "    #  [ 8 10 11]]\n",
        "\n",
        "    # matrix multiplication or cross pdt C = A*B\n",
        "    matrix_C = matrix_A @ matrix_B # matrix_C = np.matmul(matrix_A, matrix_B)\n",
        "\n",
        "    ```"
      ]
    },
    {
      "cell_type": "code",
      "execution_count": 8,
      "metadata": {
        "id": "7cO2IP4BL3PC"
      },
      "outputs": [],
      "source": [
        "# encoding the probabilities as a numpy array\n",
        "trans_array = np.array([\n",
        "    [0.002, 0.666, 0.01, 0.020, 0.302],\n",
        "    [0.466, 0.102, 0.02, 0.032, 0.38],\n",
        "    [0.0, 0.0, 1, 0.0, 0.0],\n",
        "    [0, 0, 0, 1, 0],\n",
        "    [0.11, 0.122, 0.066, 0.004, 0.698]\n",
        "])\n",
        "\n",
        "# ensures that the probabilities sum to 1\n",
        "assert(trans_array[0].sum() == 1.0)\n",
        "assert(trans_array[1].sum() == 1.0)\n",
        "assert(trans_array[2].sum() == 1.0)\n",
        "assert(trans_array[3].sum() == 1.0)\n",
        "assert(trans_array[4].sum() == 1.0)\n",
        "\n",
        "# encoding the initial probability of as a numpy array\n",
        "state = np.array([[0.3, 0.4, 0.1, 0.15, 0.05]])\n",
        "assert(state[0].sum() == 1.0)\n"
      ]
    },
    {
      "cell_type": "markdown",
      "metadata": {
        "id": "ZmO8i-iOaDF_"
      },
      "source": [
        "### Answers  \n",
        "Q1. No, the Markov Chain is not irreducible."
      ]
    },
    {
      "cell_type": "code",
      "execution_count": 9,
      "metadata": {
        "colab": {
          "base_uri": "https://localhost:8080/"
        },
        "id": "Gd3pUhDuaXzB",
        "outputId": "947b5ff9-08da-4b3b-ac7d-59ac92c482b3"
      },
      "outputs": [
        {
          "name": "stdout",
          "output_type": "stream",
          "text": [
            "[0.1925 0.2467 0.1143 0.169  0.2775]\n"
          ]
        }
      ],
      "source": [
        "#Q2\n",
        "# 1 day\n",
        "s1 = np.dot(state, trans_array)\n",
        "print(s1[0])"
      ]
    },
    {
      "cell_type": "code",
      "execution_count": 10,
      "metadata": {
        "colab": {
          "base_uri": "https://localhost:8080/"
        },
        "id": "Y8ptQn_YaXzD",
        "outputId": "89a92f75-a4a8-48bb-bb8d-0348e17df752"
      },
      "outputs": [
        {
          "name": "stdout",
          "output_type": "stream",
          "text": [
            "[0.1458722 0.1872234 0.139474  0.1818544 0.345576 ]\n"
          ]
        }
      ],
      "source": [
        "# 2 days\n",
        "s2 = np.dot(s1, trans_array)\n",
        "print(s2[0])"
      ]
    },
    {
      "cell_type": "code",
      "execution_count": 11,
      "metadata": {
        "colab": {
          "base_uri": "https://localhost:8080/"
        },
        "id": "USkLiFMxaXzD",
        "outputId": "e7d416d7-3871-48e0-cfdc-e9643c8a735c"
      },
      "outputs": [
        {
          "name": "stdout",
          "output_type": "stream",
          "text": [
            "[0.07693332 0.09688565 0.3362719  0.24330485 0.24660428]\n"
          ]
        }
      ],
      "source": [
        "# 10 days\n",
        "s10 = state\n",
        "for i in range(10):\n",
        "  s10 = np.dot(s10, trans_array)\n",
        "print(s10[0])"
      ]
    },
    {
      "cell_type": "code",
      "execution_count": 12,
      "metadata": {
        "colab": {
          "base_uri": "https://localhost:8080/"
        },
        "id": "B21NkuxKaXzE",
        "outputId": "3631762d-ed1c-4e48-c4f9-f672b0561b3e"
      },
      "outputs": [
        {
          "name": "stdout",
          "output_type": "stream",
          "text": [
            "[8.97378472e-28 1.13004326e-27 6.60595331e-01 3.39404669e-01\n",
            " 2.87688168e-27]\n"
          ]
        }
      ],
      "source": [
        "# 1000 days\n",
        "s1000 = state\n",
        "for i in range(1000):\n",
        "  s1000 = np.dot(s1000, trans_array)\n",
        "print(s1000[0])"
      ]
    },
    {
      "cell_type": "code",
      "execution_count": 13,
      "metadata": {
        "colab": {
          "base_uri": "https://localhost:8080/"
        },
        "id": "SQCCtR_JaXzF",
        "outputId": "a8bb70dc-7877-4979-ade0-d4e7daaba4e6"
      },
      "outputs": [
        {
          "name": "stdout",
          "output_type": "stream",
          "text": [
            "[8.44851901e-28 1.06389804e-27 6.60595331e-01 3.39404669e-01\n",
            " 2.70848815e-27]\n"
          ]
        }
      ],
      "source": [
        "# 1001 days\n",
        "s1001 = np.dot(s1000, trans_array)\n",
        "print(s1001[0])"
      ]
    },
    {
      "cell_type": "markdown",
      "metadata": {
        "id": "UULc7Q_bahsp"
      },
      "source": [
        "Q2.   \n",
        "1 day - [0.1925 0.2467 0.1143 0.169  0.2775]  \n",
        "2 days - [0.1458722 0.1872234 0.139474  0.1818544 0.345576 ]  \n",
        "10 days - [0.07693332 0.09688565 0.3362719  0.24330485 0.24660428]  \n",
        "1000 days - [8.97378472e-28 1.13004326e-27 6.60595331e-01 3.39404669e-01\n",
        " 2.87688168e-27]  \n",
        "1001 - [8.44851901e-28 1.06389804e-27 6.60595331e-01 3.39404669e-01\n",
        " 2.70848815e-27]  \n",
        " \n",
        "Q3. There is slight change between s1000 and s1001. (Not stationary distribution)"
      ]
    },
    {
      "cell_type": "code",
      "execution_count": 14,
      "metadata": {
        "colab": {
          "base_uri": "https://localhost:8080/"
        },
        "id": "LvsUwoSdbHmw",
        "outputId": "6eb54bba-986e-425a-e379-a4b8f6247bb4"
      },
      "outputs": [
        {
          "name": "stdout",
          "output_type": "stream",
          "text": [
            "[[0.002 0.666 0.302]\n",
            " [0.466 0.102 0.38 ]\n",
            " [0.11  0.122 0.698]]\n"
          ]
        }
      ],
      "source": [
        "#Q4\n",
        "x = np.delete(np.delete(trans_array, [2,3], 0), [2,3], 1)\n",
        "print(x)"
      ]
    },
    {
      "cell_type": "code",
      "execution_count": 15,
      "metadata": {
        "colab": {
          "base_uri": "https://localhost:8080/"
        },
        "id": "kkZ8YTdtpWuH",
        "outputId": "143cd966-6c52-4237-aadc-57acafbd9893"
      },
      "outputs": [
        {
          "name": "stdout",
          "output_type": "stream",
          "text": [
            "[[0.01  0.02 ]\n",
            " [0.02  0.032]\n",
            " [0.066 0.004]]\n"
          ]
        }
      ],
      "source": [
        "y = np.delete(np.delete(trans_array, [2,3], 0), [0,1,4], 1)\n",
        "print(y)"
      ]
    },
    {
      "cell_type": "code",
      "execution_count": 16,
      "metadata": {
        "colab": {
          "base_uri": "https://localhost:8080/"
        },
        "id": "N3REpqFpqMjI",
        "outputId": "50e4bb5d-0bde-475e-b204-93589c3b3bb6"
      },
      "outputs": [
        {
          "name": "stdout",
          "output_type": "stream",
          "text": [
            "[[ 4.0279365   4.26333958  9.39240352]\n",
            " [ 3.27006043  4.80437252  9.31529737]\n",
            " [ 2.78814698  3.49371126 10.49546579]]\n"
          ]
        }
      ],
      "source": [
        "identity = np.identity(3)\n",
        "z = np.linalg.inv(identity - x)\n",
        "print(z)"
      ]
    },
    {
      "cell_type": "code",
      "execution_count": 17,
      "metadata": {
        "colab": {
          "base_uri": "https://localhost:8080/"
        },
        "id": "QxNk64-Qqt40",
        "outputId": "8f93f6c4-bcd3-4950-adc2-5ed7beea025b"
      },
      "outputs": [
        {
          "name": "stdout",
          "output_type": "stream",
          "text": [
            "0.25640231868803715\n"
          ]
        }
      ],
      "source": [
        "# Eventual Absorption\n",
        "#print(z@y)\n",
        "print((z@y)[1][1])"
      ]
    },
    {
      "cell_type": "markdown",
      "metadata": {
        "id": "p8jw9-oArG7z"
      },
      "source": [
        "Probability that she gives feedback - 0.256"
      ]
    },
    {
      "cell_type": "markdown",
      "metadata": {
        "id": "nyDYo_MvZNO-"
      },
      "source": [
        "## Problem 3 (4 points)\n",
        "\n",
        "It seems that there is a bug in **_Move-o-Tron 99_** which makes general crimes and feedback units as absorbing states. After updating the software of **_Move-o-Tron 99_**, Captain Holt wants to find out the effect that Amy Santiago has on the probability of a person giving feedback. So one matrix is generated including Santiago and the other one without. \n",
        "\n",
        "Matrix 1 (With Santiago)\n",
        "\n",
        "| |Major Crimes|Traffic|General crimes|Feedback|Theft|\n",
        "|---|---|---|---|---|---|\n",
        "|Major Crimes|0\\.002|0\\.232|0\\.31|0\\.434|0\\.022|\n",
        "|Traffic|0\\.426|0\\.102|0\\.222|0\\.04|0\\.21|\n",
        "|General crimes|0\\.03|0\\.11|0\\.2|0\\.294|0\\.366|\n",
        "|Feedback|0\\.003|0\\.176|0\\.321|0\\.3|0\\.2|\n",
        "|Theft|0\\.11|0\\.422|0\\.166|0\\.1|0\\.202|\n",
        "\n",
        "Matrix 2 (Without Santiago)\n",
        "\n",
        "| |Major Crimes|Traffic|General crimes|Feedback|Theft|\n",
        "|---|---|---|---|---|---|\n",
        "|Major Crimes|0\\.11|0\\.222|0\\.092|0\\.374|0\\.202|\n",
        "|Traffic|0\\.03|0\\.11|0\\.2|0\\.294|0\\.366|\n",
        "|General crimes|0\\.002|0\\.232|0\\.31|0\\.434|0\\.022|\n",
        "|Feedback|0\\.466|0\\.102|0\\.02|0\\.032|0\\.38|\n",
        "|Theft|0\\.003|0\\.176|0\\.321|0\\.3|0\\.2|\n",
        "\n",
        "<br>\n",
        "\n",
        "1. How can you find out the effect that Santiago has on the probability of feedback? (1 point)\n",
        "\n",
        "2. What effect does Santiago have one the probability of getting feedback? (1 point)\n",
        "\n",
        "    Note: The initial probablity of a person going to a particular unit on a particular day remains the same\n",
        "\n",
        "3. Name the test Captain Holt is performing. (0.5 points)\n",
        "\n",
        "Lina Ginetti reports to Captain Holt that the there two kinds of days in the precicnt _\"There are normal days and then there are days where workflow is dismal with a tiny dash of pathetic.\"_. Captain Holt decided to sample the initial probablity of a person going to a particular unit on a good day and a bad day.\n",
        "\n",
        "4. Without the information about these inital probabilities, can you tell if there is any difference in the probability of getting a feedback? Explain. (1.5 points)\n",
        "\n"
      ]
    },
    {
      "cell_type": "code",
      "execution_count": 18,
      "metadata": {
        "id": "KYvJfAKIigsp"
      },
      "outputs": [],
      "source": [
        "# encoding the probabilities as a numpy array\n",
        "# With Santiago\n",
        "trans_array_with_amy = np.array([\n",
        "    [0.002, 0.232, 0.31, 0.434, 0.022],\n",
        "    [0.426, 0.102, 0.222, 0.04, 0.21],\n",
        "    [0.03, 0.11, 0.20, 0.294, 0.366],\n",
        "    [0.003, 0.176, 0.321, 0.3, 0.2],\n",
        "    [0.11, 0.422, 0.166, 0.1, 0.202]\n",
        "])\n",
        "\n",
        "# Without Santiago\n",
        "trans_array_without_amy = np.array([\n",
        "    [0.11, 0.222, 0.092, 0.374, 0.202],\n",
        "    [0.03, 0.11, 0.20, 0.294, 0.366],\n",
        "    [0.002, 0.232, 0.31, 0.434, 0.022],\n",
        "    [0.466, 0.102, 0.02, 0.032, 0.38],\n",
        "    [0.003, 0.176, 0.321, 0.3, 0.2]\n",
        "])\n",
        "\n",
        "# ensures that the probabilities sum to 1\n",
        "assert(trans_array_with_amy[0].sum() == 1.0)\n",
        "assert(trans_array_with_amy[1].sum() == 1.0)\n",
        "assert(trans_array_with_amy[2].sum() == 1.0)\n",
        "assert(trans_array_with_amy[3].sum() == 1.0)\n",
        "assert(trans_array_with_amy[4].sum() == 1.0)\n",
        "\n",
        "assert(trans_array_without_amy[0].sum() == 1.0)\n",
        "assert(trans_array_without_amy[1].sum() == 1.0)\n",
        "assert(trans_array_without_amy[2].sum() == 1.0)\n",
        "assert(trans_array_without_amy[3].sum() == 1.0)\n",
        "assert(trans_array_without_amy[4].sum() == 1.0)\n",
        "\n",
        "# encoding the initial probability of as a numpy array\n",
        "state = np.array([[0.3, 0.4, 0.1, 0.15, 0.05]])\n",
        "assert(state[0].sum() == 1.0)\n"
      ]
    },
    {
      "cell_type": "markdown",
      "metadata": {
        "id": "6rRa7uY-ntr_"
      },
      "source": [
        "### Answers\n",
        "Q1. Compare probabilities of stationary distribution for both transition matrices."
      ]
    },
    {
      "cell_type": "code",
      "execution_count": 19,
      "metadata": {
        "colab": {
          "base_uri": "https://localhost:8080/"
        },
        "id": "5cqIMDWSb37B",
        "outputId": "e211f5ac-39c2-4326-8ae7-28fe9c737213"
      },
      "outputs": [
        {
          "name": "stdout",
          "output_type": "stream",
          "text": [
            "[0.12001975 0.20607988 0.23649985 0.21700347 0.22039705]\n",
            "[0.12001975 0.20607988 0.23649985 0.21700347 0.22039705]\n"
          ]
        }
      ],
      "source": [
        "# with\n",
        "s1000x = state\n",
        "for i in range(1000):\n",
        "  s1000x = np.dot(s1000x, trans_array_with_amy)\n",
        "print(s1000x[0])\n",
        "s1001x = np.dot(s1000x, trans_array_with_amy)\n",
        "print(s1001x[0])"
      ]
    },
    {
      "cell_type": "code",
      "execution_count": 20,
      "metadata": {
        "colab": {
          "base_uri": "https://localhost:8080/"
        },
        "id": "XWMgfzXbl4Qd",
        "outputId": "be477da6-412a-429b-c1d8-f5c814d076d4"
      },
      "outputs": [
        {
          "name": "stdout",
          "output_type": "stream",
          "text": [
            "[0.14495178 0.16283362 0.18658671 0.26400004 0.24162786]\n",
            "[0.14495178 0.16283362 0.18658671 0.26400004 0.24162786]\n"
          ]
        }
      ],
      "source": [
        "# without\n",
        "s1000y = state\n",
        "for i in range(1000):\n",
        "  s1000y = np.dot(s1000y, trans_array_without_amy)\n",
        "print(s1000y[0])\n",
        "s1001y = np.dot(s1000y, trans_array_without_amy)\n",
        "print(s1001y[0])"
      ]
    },
    {
      "cell_type": "markdown",
      "metadata": {
        "id": "MhbF4up5mVQt"
      },
      "source": [
        "Q2.   \n",
        "With Amy - 0.217  \n",
        "Without Amy - 0.264  \n",
        "with Amy < without Amy (s1000x < s1000y). Hence, getting a feedback with Amy working is less.  \n",
        "Q3. AB Testing  \n",
        "Q4. Yes. Stationary distribution does not depend on initial states."
      ]
    },
    {
      "cell_type": "code",
      "execution_count": null,
      "metadata": {
        "id": "0Xkw6B2C3pjh"
      },
      "outputs": [],
      "source": []
    }
  ],
  "metadata": {
    "colab": {
      "collapsed_sections": [
        "c6sJ6BEOzkKN",
        "_GsPyyRnEXzY",
        "nyDYo_MvZNO-"
      ],
      "provenance": []
    },
    "kernelspec": {
      "display_name": "Python 3",
      "name": "python3"
    },
    "language_info": {
      "name": "python"
    }
  },
  "nbformat": 4,
  "nbformat_minor": 0
}
