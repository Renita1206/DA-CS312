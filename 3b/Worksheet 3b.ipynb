{
  "cells": [
    {
      "cell_type": "markdown",
      "metadata": {
        "id": "1GkD52Wib22r"
      },
      "source": [
        "### PES University, Bangalore\n",
        "### Established under Karnataka Act No. 16 of 2013\n",
        "### UE20CS312 - Data Analytics - Worksheet 3b - AR and MA models\n",
        "### Designed by Vishruth Veerendranath, Dept. of CSE - vishruth@pesu.pes.edu\n",
        "\n",
        "\n",
        "#### Renita Kurian - PES1UG20CS331"
      ]
    },
    {
      "cell_type": "markdown",
      "metadata": {
        "id": "UZHIpnXmb222"
      },
      "source": [
        "### AR and MA models\n",
        "Auto Regressive and Moving Average are some of the most powerful, yet simple models for time-series forecasting. They can be used individually or together as ARMA. There are many other variations as well. We will use these models to forecast time-series in this worksheet"
      ]
    },
    {
      "cell_type": "markdown",
      "metadata": {
        "id": "lj9Nt74Lb224"
      },
      "source": [
        "### Task\n",
        "Cryptocurrency is all the rage now and it uses the very exciting technology behind blockchain. People even claim it to be revolutionary. But if you have invested in cryptocurrencies, you know how volatile these cryptocurrencies really are! People have become billionaires by investing in crypto, and others have lost all their money on crypto. The most recent instance of this volatility was seen during the Terra Luna crash. Find more info about that [here](https://www.forbes.com/sites/lawrencewintermeyer/2022/05/25/from-hero-to-zero-how-terra-was-toppled-in-cryptos-darkest-hour/?sh=5a7e83bf389e) and [here](https://c.ndtvimg.com/2021-02/4lo9ita_elon-musk-dogecoin-meme_625x300_04_February_21.jpg) if you are interested.\n",
        "\n",
        "Your task is to effectively forecast the prices of **DogeCoin**, a crypto that started as a meme but now is a crypto that people actually invest in. DogeCoin prices however, are affected even by a single tweet by Elon Musk. The image below tweeted by Elon Musk shot up the prices of DogeCoin by 200%!\n",
        "\n",
        "<!-- ![image](https://c.ndtvimg.com/2021-02/4lo9ita_elon-musk-dogecoin-meme_625x300_04_February_21.jpg =100x100) -->\n",
        "<img src=\"https://c.ndtvimg.com/2021-02/4lo9ita_elon-musk-dogecoin-meme_625x300_04_February_21.jpg\" width=\"300\" height=\"200\" />\n",
        "\n",
        "You have been provided with the daily prices of DogeCoin from `15-08-2021` to `15-08-2022` a period of 1 year (365 days) in the file `doge.csv`\n",
        "\n",
        "Please download the data from this [Github repo](https://github.com/Data-Analytics-UE20CS312/Unit-3-Worksheets/blob/master/3b%20-%20AR%20and%20MA%20models/doge.csv)\n"
      ]
    },
    {
      "cell_type": "markdown",
      "metadata": {
        "id": "CYnrhsMQb227"
      },
      "source": [
        "### Data Dictionary\n",
        "\n",
        "Date - Date on which price was recorded     \n",
        "Price - Price of DogeCoin on a particular day"
      ]
    },
    {
      "cell_type": "markdown",
      "metadata": {
        "id": "29KgUSL-b228"
      },
      "source": [
        "### Data Ingestion and Preprocessing\n",
        "- Read the file into a `Pandas` DataFrame object"
      ]
    },
    {
      "cell_type": "code",
      "execution_count": 59,
      "metadata": {
        "colab": {
          "base_uri": "https://localhost:8080/",
          "height": 0
        },
        "id": "OxkkjsU6b229",
        "outputId": "b918fdee-7008-4ab1-f4a6-6d466f612aeb"
      },
      "outputs": [
        {
          "data": {
            "text/html": [
              "\n",
              "  <div id=\"df-60a8d5aa-014c-4075-80e8-5e81c8a4967b\">\n",
              "    <div class=\"colab-df-container\">\n",
              "      <div>\n",
              "<style scoped>\n",
              "    .dataframe tbody tr th:only-of-type {\n",
              "        vertical-align: middle;\n",
              "    }\n",
              "\n",
              "    .dataframe tbody tr th {\n",
              "        vertical-align: top;\n",
              "    }\n",
              "\n",
              "    .dataframe thead th {\n",
              "        text-align: right;\n",
              "    }\n",
              "</style>\n",
              "<table border=\"1\" class=\"dataframe\">\n",
              "  <thead>\n",
              "    <tr style=\"text-align: right;\">\n",
              "      <th></th>\n",
              "      <th>Date</th>\n",
              "      <th>Price</th>\n",
              "    </tr>\n",
              "  </thead>\n",
              "  <tbody>\n",
              "    <tr>\n",
              "      <th>0</th>\n",
              "      <td>2021-08-15</td>\n",
              "      <td>0.348722</td>\n",
              "    </tr>\n",
              "    <tr>\n",
              "      <th>1</th>\n",
              "      <td>2021-08-16</td>\n",
              "      <td>0.349838</td>\n",
              "    </tr>\n",
              "    <tr>\n",
              "      <th>2</th>\n",
              "      <td>2021-08-17</td>\n",
              "      <td>0.345208</td>\n",
              "    </tr>\n",
              "    <tr>\n",
              "      <th>3</th>\n",
              "      <td>2021-08-18</td>\n",
              "      <td>0.331844</td>\n",
              "    </tr>\n",
              "    <tr>\n",
              "      <th>4</th>\n",
              "      <td>2021-08-19</td>\n",
              "      <td>0.321622</td>\n",
              "    </tr>\n",
              "  </tbody>\n",
              "</table>\n",
              "</div>\n",
              "      <button class=\"colab-df-convert\" onclick=\"convertToInteractive('df-60a8d5aa-014c-4075-80e8-5e81c8a4967b')\"\n",
              "              title=\"Convert this dataframe to an interactive table.\"\n",
              "              style=\"display:none;\">\n",
              "        \n",
              "  <svg xmlns=\"http://www.w3.org/2000/svg\" height=\"24px\"viewBox=\"0 0 24 24\"\n",
              "       width=\"24px\">\n",
              "    <path d=\"M0 0h24v24H0V0z\" fill=\"none\"/>\n",
              "    <path d=\"M18.56 5.44l.94 2.06.94-2.06 2.06-.94-2.06-.94-.94-2.06-.94 2.06-2.06.94zm-11 1L8.5 8.5l.94-2.06 2.06-.94-2.06-.94L8.5 2.5l-.94 2.06-2.06.94zm10 10l.94 2.06.94-2.06 2.06-.94-2.06-.94-.94-2.06-.94 2.06-2.06.94z\"/><path d=\"M17.41 7.96l-1.37-1.37c-.4-.4-.92-.59-1.43-.59-.52 0-1.04.2-1.43.59L10.3 9.45l-7.72 7.72c-.78.78-.78 2.05 0 2.83L4 21.41c.39.39.9.59 1.41.59.51 0 1.02-.2 1.41-.59l7.78-7.78 2.81-2.81c.8-.78.8-2.07 0-2.86zM5.41 20L4 18.59l7.72-7.72 1.47 1.35L5.41 20z\"/>\n",
              "  </svg>\n",
              "      </button>\n",
              "      \n",
              "  <style>\n",
              "    .colab-df-container {\n",
              "      display:flex;\n",
              "      flex-wrap:wrap;\n",
              "      gap: 12px;\n",
              "    }\n",
              "\n",
              "    .colab-df-convert {\n",
              "      background-color: #E8F0FE;\n",
              "      border: none;\n",
              "      border-radius: 50%;\n",
              "      cursor: pointer;\n",
              "      display: none;\n",
              "      fill: #1967D2;\n",
              "      height: 32px;\n",
              "      padding: 0 0 0 0;\n",
              "      width: 32px;\n",
              "    }\n",
              "\n",
              "    .colab-df-convert:hover {\n",
              "      background-color: #E2EBFA;\n",
              "      box-shadow: 0px 1px 2px rgba(60, 64, 67, 0.3), 0px 1px 3px 1px rgba(60, 64, 67, 0.15);\n",
              "      fill: #174EA6;\n",
              "    }\n",
              "\n",
              "    [theme=dark] .colab-df-convert {\n",
              "      background-color: #3B4455;\n",
              "      fill: #D2E3FC;\n",
              "    }\n",
              "\n",
              "    [theme=dark] .colab-df-convert:hover {\n",
              "      background-color: #434B5C;\n",
              "      box-shadow: 0px 1px 3px 1px rgba(0, 0, 0, 0.15);\n",
              "      filter: drop-shadow(0px 1px 2px rgba(0, 0, 0, 0.3));\n",
              "      fill: #FFFFFF;\n",
              "    }\n",
              "  </style>\n",
              "\n",
              "      <script>\n",
              "        const buttonEl =\n",
              "          document.querySelector('#df-60a8d5aa-014c-4075-80e8-5e81c8a4967b button.colab-df-convert');\n",
              "        buttonEl.style.display =\n",
              "          google.colab.kernel.accessAllowed ? 'block' : 'none';\n",
              "\n",
              "        async function convertToInteractive(key) {\n",
              "          const element = document.querySelector('#df-60a8d5aa-014c-4075-80e8-5e81c8a4967b');\n",
              "          const dataTable =\n",
              "            await google.colab.kernel.invokeFunction('convertToInteractive',\n",
              "                                                     [key], {});\n",
              "          if (!dataTable) return;\n",
              "\n",
              "          const docLinkHtml = 'Like what you see? Visit the ' +\n",
              "            '<a target=\"_blank\" href=https://colab.research.google.com/notebooks/data_table.ipynb>data table notebook</a>'\n",
              "            + ' to learn more about interactive tables.';\n",
              "          element.innerHTML = '';\n",
              "          dataTable['output_type'] = 'display_data';\n",
              "          await google.colab.output.renderOutput(dataTable, element);\n",
              "          const docLink = document.createElement('div');\n",
              "          docLink.innerHTML = docLinkHtml;\n",
              "          element.appendChild(docLink);\n",
              "        }\n",
              "      </script>\n",
              "    </div>\n",
              "  </div>\n",
              "  "
            ],
            "text/plain": [
              "         Date     Price\n",
              "0  2021-08-15  0.348722\n",
              "1  2021-08-16  0.349838\n",
              "2  2021-08-17  0.345208\n",
              "3  2021-08-18  0.331844\n",
              "4  2021-08-19  0.321622"
            ]
          },
          "execution_count": 59,
          "metadata": {},
          "output_type": "execute_result"
        }
      ],
      "source": [
        "import pandas as pd\n",
        "df = pd.read_csv('/doge.csv')\n",
        "\n",
        "df.head()"
      ]
    },
    {
      "cell_type": "markdown",
      "metadata": {
        "id": "1B-tnpJLb23E"
      },
      "source": [
        "### Prerequisites\n",
        "\n",
        "- Set up a new conda env or use an existing one that has `jupyter-notebook` and `ipykernel` installed (Conda envs come with these by default) [Reference](https://conda.io/projects/conda/en/latest/user-guide/getting-started.html)\n",
        "- Instead, you can also use a python venv and install `ipykernel` manually (We instead suggest using conda instead for easy setup) [Reference](https://docs.python.org/3/tutorial/venv.html)\n",
        "- Install the `statsmodels` package either in your Conda environment or Python venv. Refer to [the installation guide](https://www.statsmodels.org/dev/install.html)"
      ]
    },
    {
      "cell_type": "markdown",
      "metadata": {
        "id": "UAeZPQj1b23H"
      },
      "source": [
        "### Points\n",
        "\n",
        "The problems in this worksheet are for a total of 10 points with each problem having a different weightage. \n",
        "- Problem 0: 0.5 points\n",
        "- Problem 1: 1.5 point\n",
        "- Problem 2: 2 points\n",
        "- Problem 3: 1 points\n",
        "- Problem 4: 2 point\n",
        "- Problem 5: 1 point\n",
        "- Problem 6: 1 points\n"
      ]
    },
    {
      "cell_type": "markdown",
      "metadata": {
        "id": "CR2AIom1b23J"
      },
      "source": [
        "**HINTS FOR ALL PROBLEMS**: \n",
        "- Consider using `inplace=True` or assign it to new DataFrame, when using pandas transformations. If none of these are done, the DataFrame will remain the same\n",
        "- Search for functions in the `statsmodels` [documentation](https://www.statsmodels.org/dev/index.html)"
      ]
    },
    {
      "cell_type": "markdown",
      "metadata": {
        "id": "Hv8f9q4Vb23L"
      },
      "source": [
        "### Problem 0 (0.5 point)\n",
        "- Set the index of DataFrame to the `Date` column to make it a time series"
      ]
    },
    {
      "cell_type": "code",
      "execution_count": 60,
      "metadata": {
        "colab": {
          "base_uri": "https://localhost:8080/",
          "height": 0
        },
        "id": "FGu_1mALdR4q",
        "outputId": "5fd33ce4-79c8-4c37-e05a-5e1ac654c6ac"
      },
      "outputs": [
        {
          "data": {
            "text/html": [
              "\n",
              "  <div id=\"df-da16c76c-bd4f-4d59-8ab5-a03cc4e4d979\">\n",
              "    <div class=\"colab-df-container\">\n",
              "      <div>\n",
              "<style scoped>\n",
              "    .dataframe tbody tr th:only-of-type {\n",
              "        vertical-align: middle;\n",
              "    }\n",
              "\n",
              "    .dataframe tbody tr th {\n",
              "        vertical-align: top;\n",
              "    }\n",
              "\n",
              "    .dataframe thead th {\n",
              "        text-align: right;\n",
              "    }\n",
              "</style>\n",
              "<table border=\"1\" class=\"dataframe\">\n",
              "  <thead>\n",
              "    <tr style=\"text-align: right;\">\n",
              "      <th></th>\n",
              "      <th>Price</th>\n",
              "    </tr>\n",
              "    <tr>\n",
              "      <th>Date</th>\n",
              "      <th></th>\n",
              "    </tr>\n",
              "  </thead>\n",
              "  <tbody>\n",
              "    <tr>\n",
              "      <th>2021-08-15</th>\n",
              "      <td>0.348722</td>\n",
              "    </tr>\n",
              "    <tr>\n",
              "      <th>2021-08-16</th>\n",
              "      <td>0.349838</td>\n",
              "    </tr>\n",
              "    <tr>\n",
              "      <th>2021-08-17</th>\n",
              "      <td>0.345208</td>\n",
              "    </tr>\n",
              "    <tr>\n",
              "      <th>2021-08-18</th>\n",
              "      <td>0.331844</td>\n",
              "    </tr>\n",
              "    <tr>\n",
              "      <th>2021-08-19</th>\n",
              "      <td>0.321622</td>\n",
              "    </tr>\n",
              "  </tbody>\n",
              "</table>\n",
              "</div>\n",
              "      <button class=\"colab-df-convert\" onclick=\"convertToInteractive('df-da16c76c-bd4f-4d59-8ab5-a03cc4e4d979')\"\n",
              "              title=\"Convert this dataframe to an interactive table.\"\n",
              "              style=\"display:none;\">\n",
              "        \n",
              "  <svg xmlns=\"http://www.w3.org/2000/svg\" height=\"24px\"viewBox=\"0 0 24 24\"\n",
              "       width=\"24px\">\n",
              "    <path d=\"M0 0h24v24H0V0z\" fill=\"none\"/>\n",
              "    <path d=\"M18.56 5.44l.94 2.06.94-2.06 2.06-.94-2.06-.94-.94-2.06-.94 2.06-2.06.94zm-11 1L8.5 8.5l.94-2.06 2.06-.94-2.06-.94L8.5 2.5l-.94 2.06-2.06.94zm10 10l.94 2.06.94-2.06 2.06-.94-2.06-.94-.94-2.06-.94 2.06-2.06.94z\"/><path d=\"M17.41 7.96l-1.37-1.37c-.4-.4-.92-.59-1.43-.59-.52 0-1.04.2-1.43.59L10.3 9.45l-7.72 7.72c-.78.78-.78 2.05 0 2.83L4 21.41c.39.39.9.59 1.41.59.51 0 1.02-.2 1.41-.59l7.78-7.78 2.81-2.81c.8-.78.8-2.07 0-2.86zM5.41 20L4 18.59l7.72-7.72 1.47 1.35L5.41 20z\"/>\n",
              "  </svg>\n",
              "      </button>\n",
              "      \n",
              "  <style>\n",
              "    .colab-df-container {\n",
              "      display:flex;\n",
              "      flex-wrap:wrap;\n",
              "      gap: 12px;\n",
              "    }\n",
              "\n",
              "    .colab-df-convert {\n",
              "      background-color: #E8F0FE;\n",
              "      border: none;\n",
              "      border-radius: 50%;\n",
              "      cursor: pointer;\n",
              "      display: none;\n",
              "      fill: #1967D2;\n",
              "      height: 32px;\n",
              "      padding: 0 0 0 0;\n",
              "      width: 32px;\n",
              "    }\n",
              "\n",
              "    .colab-df-convert:hover {\n",
              "      background-color: #E2EBFA;\n",
              "      box-shadow: 0px 1px 2px rgba(60, 64, 67, 0.3), 0px 1px 3px 1px rgba(60, 64, 67, 0.15);\n",
              "      fill: #174EA6;\n",
              "    }\n",
              "\n",
              "    [theme=dark] .colab-df-convert {\n",
              "      background-color: #3B4455;\n",
              "      fill: #D2E3FC;\n",
              "    }\n",
              "\n",
              "    [theme=dark] .colab-df-convert:hover {\n",
              "      background-color: #434B5C;\n",
              "      box-shadow: 0px 1px 3px 1px rgba(0, 0, 0, 0.15);\n",
              "      filter: drop-shadow(0px 1px 2px rgba(0, 0, 0, 0.3));\n",
              "      fill: #FFFFFF;\n",
              "    }\n",
              "  </style>\n",
              "\n",
              "      <script>\n",
              "        const buttonEl =\n",
              "          document.querySelector('#df-da16c76c-bd4f-4d59-8ab5-a03cc4e4d979 button.colab-df-convert');\n",
              "        buttonEl.style.display =\n",
              "          google.colab.kernel.accessAllowed ? 'block' : 'none';\n",
              "\n",
              "        async function convertToInteractive(key) {\n",
              "          const element = document.querySelector('#df-da16c76c-bd4f-4d59-8ab5-a03cc4e4d979');\n",
              "          const dataTable =\n",
              "            await google.colab.kernel.invokeFunction('convertToInteractive',\n",
              "                                                     [key], {});\n",
              "          if (!dataTable) return;\n",
              "\n",
              "          const docLinkHtml = 'Like what you see? Visit the ' +\n",
              "            '<a target=\"_blank\" href=https://colab.research.google.com/notebooks/data_table.ipynb>data table notebook</a>'\n",
              "            + ' to learn more about interactive tables.';\n",
              "          element.innerHTML = '';\n",
              "          dataTable['output_type'] = 'display_data';\n",
              "          await google.colab.output.renderOutput(dataTable, element);\n",
              "          const docLink = document.createElement('div');\n",
              "          docLink.innerHTML = docLinkHtml;\n",
              "          element.appendChild(docLink);\n",
              "        }\n",
              "      </script>\n",
              "    </div>\n",
              "  </div>\n",
              "  "
            ],
            "text/plain": [
              "               Price\n",
              "Date                \n",
              "2021-08-15  0.348722\n",
              "2021-08-16  0.349838\n",
              "2021-08-17  0.345208\n",
              "2021-08-18  0.331844\n",
              "2021-08-19  0.321622"
            ]
          },
          "execution_count": 60,
          "metadata": {},
          "output_type": "execute_result"
        }
      ],
      "source": [
        "df.set_index('Date', inplace=True)\n",
        "df.head()"
      ]
    },
    {
      "cell_type": "markdown",
      "metadata": {
        "id": "ADvwHSuQb23M"
      },
      "source": [
        "### Problem 1 (1.5 point)\n",
        "- Plot the time-series. Analyze the stationarity from the time-series. Provide reasoning for stationarity/non-stationarity based on visual inspection of time-series plot (0.5 point)"
      ]
    },
    {
      "cell_type": "markdown",
      "metadata": {
        "id": "-wwEvVAUb23M"
      },
      "source": [
        "- Plot the ACF plot of the Time series (upto 50 lags). Analyze the stationarity from ACF plot and provide reasoning (Hint: look at functions in `statsmodels` package) (1 Point)"
      ]
    },
    {
      "cell_type": "code",
      "execution_count": 61,
      "metadata": {
        "colab": {
          "base_uri": "https://localhost:8080/",
          "height": 0
        },
        "id": "mbcJXwmydZ0g",
        "outputId": "b07b4a1b-ec09-4145-83c5-15053b5c5bb3"
      },
      "outputs": [
        {
          "data": {
            "text/plain": [
              "<matplotlib.axes._subplots.AxesSubplot at 0x7f84111b9450>"
            ]
          },
          "execution_count": 61,
          "metadata": {},
          "output_type": "execute_result"
        },
        {
          "data": {
            "image/png": "[encoded data removed]",
            "text/plain": [
              "<Figure size 432x288 with 1 Axes>"
            ]
          },
          "metadata": {
            "needs_background": "light"
          },
          "output_type": "display_data"
        }
      ],
      "source": [
        "#Plotting time-series\n",
        "df.plot()"
      ]
    },
    {
      "cell_type": "markdown",
      "metadata": {
        "id": "KnkT9E1wdng6"
      },
      "source": [
        "Above graph shows downwards trend and hence its non-stationary."
      ]
    },
    {
      "cell_type": "code",
      "execution_count": 62,
      "metadata": {
        "colab": {
          "base_uri": "https://localhost:8080/",
          "height": 0
        },
        "id": "OUkUkes3dfKk",
        "outputId": "e602f3c2-ad7f-4fac-dc8b-a741f662f4ac"
      },
      "outputs": [
        {
          "data": {
            "image/png": "[encoded data removed]",
            "text/plain": [
              "<Figure size 432x288 with 1 Axes>"
            ]
          },
          "metadata": {
            "needs_background": "light"
          },
          "output_type": "display_data"
        }
      ],
      "source": [
        "#ACF Plot\n",
        "import statsmodels.api as sm\n",
        "import matplotlib.pyplot as plt\n",
        "sm.graphics.tsa.plot_acf(df.values.squeeze(), lags=50)\n",
        "plt.show()"
      ]
    },
    {
      "cell_type": "markdown",
      "metadata": {
        "id": "W-jnlz3ud9k8"
      },
      "source": [
        "Graph shows decrease in ACF and hence its non-stationary."
      ]
    },
    {
      "cell_type": "markdown",
      "metadata": {
        "id": "uHrEiO8ub23N"
      },
      "source": [
        "### Problem 2 (2 point)\n",
        "\n",
        "- Run Augmented Dickey Fuller Test. Analyze whether the time-series is stationary, based on ADF results (1 point)     \n",
        "    \n",
        "Hint: Use the `print_adf_results` function below to print the results of the ADF function cleanly after obtaining results from the library function. Pass the results from library function to `print_adf_results` function"
      ]
    },
    {
      "cell_type": "code",
      "execution_count": 63,
      "metadata": {
        "id": "sF25ZMuAb23S"
      },
      "outputs": [],
      "source": [
        "def print_adf_results(adf_result):\n",
        "    print('ADF Statistic: %f' % adf_result[0])\n",
        "    print('p-value: %f' % adf_result[1])\n",
        "    print('Critical Values:')\n",
        "    for key, value in adf_result[4].items():\n",
        "        print('\\t%s: %.3f' % (key, value))"
      ]
    },
    {
      "cell_type": "markdown",
      "metadata": {
        "id": "U4Jec-WKb23V"
      },
      "source": [
        "- If not stationary, apply appropriate transformations. Run the ADF test again to show stationarity after transformation (1 Point)\n",
        "      \n",
        "Hint: `diff` and `dropna`. Assign the DataFrame after transformation to a new DataFrame with name `transformed_df`"
      ]
    },
    {
      "cell_type": "code",
      "execution_count": 64,
      "metadata": {
        "colab": {
          "base_uri": "https://localhost:8080/"
        },
        "id": "GX_EVSemePvn",
        "outputId": "51b96fa2-28ab-49b6-9e5a-0a88c9795be8"
      },
      "outputs": [
        {
          "name": "stdout",
          "output_type": "stream",
          "text": [
            "ADF Statistic: -1.558935\n",
            "p-value: 0.504182\n",
            "Critical Values:\n",
            "\t1%: -3.449\n",
            "\t5%: -2.870\n",
            "\t10%: -2.571\n"
          ]
        }
      ],
      "source": [
        "# ADF test\n",
        "from statsmodels.tsa.stattools import adfuller\n",
        "res = adfuller(df)\n",
        "#print(res)\n",
        "print_adf_results(res)"
      ]
    },
    {
      "cell_type": "markdown",
      "metadata": {
        "id": "RURzSzJIe54v"
      },
      "source": [
        "p-value is greater than 0.05 and hence we cannot reject null hypothesis. Therefore, it can be inferred that the time-series is non-stationary."
      ]
    },
    {
      "cell_type": "code",
      "execution_count": 65,
      "metadata": {
        "colab": {
          "base_uri": "https://localhost:8080/",
          "height": 0
        },
        "id": "yXDL6xgYfoMX",
        "outputId": "696955d8-cb27-41a2-ca62-0d97b77a7f25"
      },
      "outputs": [
        {
          "name": "stdout",
          "output_type": "stream",
          "text": [
            "ADF Statistic: -5.593446\n",
            "p-value: 0.000001\n",
            "Critical Values:\n",
            "\t1%: -3.449\n",
            "\t5%: -2.870\n",
            "\t10%: -2.571\n"
          ]
        },
        {
          "data": {
            "text/plain": [
              "<matplotlib.axes._subplots.AxesSubplot at 0x7f840f1d39d0>"
            ]
          },
          "execution_count": 65,
          "metadata": {},
          "output_type": "execute_result"
        },
        {
          "data": {
            "image/png": "[encoded data removed]",
            "text/plain": [
              "<Figure size 432x288 with 1 Axes>"
            ]
          },
          "metadata": {
            "needs_background": "light"
          },
          "output_type": "display_data"
        }
      ],
      "source": [
        "#Transformation of df\n",
        "transformed_df = df.diff().dropna()\n",
        "res1 = adfuller(transformed_df)\n",
        "print_adf_results(res1)\n",
        "transformed_df.plot()"
      ]
    },
    {
      "cell_type": "markdown",
      "metadata": {
        "id": "i0C8sa08b23V"
      },
      "source": [
        "### Problem 3 (1 point)\n",
        "\n",
        "- Plot both ACF and PACF plot. From these select optimal parameters for the ARIMA(p,q) model     \n",
        "\n",
        "Hint: Negative values that are significantly outside the Confidence interval are considered significant too.        \n",
        "Hint: `p+q = 3`"
      ]
    },
    {
      "cell_type": "code",
      "execution_count": 66,
      "metadata": {
        "colab": {
          "base_uri": "https://localhost:8080/",
          "height": 0
        },
        "id": "0jWfpOLMfKcz",
        "outputId": "5eded56e-2c10-4198-bafb-73d452665018"
      },
      "outputs": [
        {
          "data": {
            "image/png": "[encoded data removed]",
            "text/plain": [
              "<Figure size 432x288 with 1 Axes>"
            ]
          },
          "metadata": {
            "needs_background": "light"
          },
          "output_type": "display_data"
        },
        {
          "data": {
            "image/png": "[encoded data removed]",
            "text/plain": [
              "<Figure size 432x288 with 1 Axes>"
            ]
          },
          "metadata": {
            "needs_background": "light"
          },
          "output_type": "display_data"
        }
      ],
      "source": [
        "import statsmodels.api as sm\n",
        "import matplotlib.pyplot as plt\n",
        "sm.graphics.tsa.plot_acf(transformed_df, lags=50)\n",
        "plt.show()\n",
        "\n",
        "import statsmodels.api as sm\n",
        "import matplotlib.pyplot as plt\n",
        "sm.graphics.tsa.plot_pacf(transformed_df, lags=50)\n",
        "plt.show()"
      ]
    },
    {
      "cell_type": "markdown",
      "metadata": {
        "id": "miGNUUbGgElC"
      },
      "source": [
        "From ACF, q = 1  \n",
        "From PACF, p = 2 "
      ]
    },
    {
      "cell_type": "markdown",
      "metadata": {
        "id": "zjaYtFxSb23W"
      },
      "source": [
        "### Problem 4 (2 point)\n",
        "- Write a function to forecast values using only AR(p) model (2 Points)     \n",
        "Only use `pandas` functions and Linear Regression from `sklearn`. [LR documentation](https://scikit-learn.org/stable/modules/generated/sklearn.linear_model.LinearRegression.html)      \n",
        "\n",
        "Hint: Create p new columns in a new DataFrame that is a copy of `transformed_df`       \n",
        "Each new column has lagged value of Price. `Price_t-i` (From `Price_t-1` upto `Price_t-p`)      \n",
        "Look at the `shift` function in pandas to create these new columns [Link](https://pandas.pydata.org/docs/reference/api/pandas.DataFrame.shift.html)"
      ]
    },
    {
      "cell_type": "code",
      "execution_count": 67,
      "metadata": {
        "colab": {
          "base_uri": "https://localhost:8080/",
          "height": 237
        },
        "id": "B-Y77_yqb23W",
        "outputId": "65281c32-6293-4716-f8dd-505db9eb114f"
      },
      "outputs": [
        {
          "data": {
            "text/html": [
              "\n",
              "  <div id=\"df-cc0d5498-4aa8-4f04-89a9-6779d38d6ad4\">\n",
              "    <div class=\"colab-df-container\">\n",
              "      <div>\n",
              "<style scoped>\n",
              "    .dataframe tbody tr th:only-of-type {\n",
              "        vertical-align: middle;\n",
              "    }\n",
              "\n",
              "    .dataframe tbody tr th {\n",
              "        vertical-align: top;\n",
              "    }\n",
              "\n",
              "    .dataframe thead th {\n",
              "        text-align: right;\n",
              "    }\n",
              "</style>\n",
              "<table border=\"1\" class=\"dataframe\">\n",
              "  <thead>\n",
              "    <tr style=\"text-align: right;\">\n",
              "      <th></th>\n",
              "      <th>Price</th>\n",
              "      <th>Price_t-1</th>\n",
              "      <th>Price_t-2</th>\n",
              "    </tr>\n",
              "    <tr>\n",
              "      <th>Date</th>\n",
              "      <th></th>\n",
              "      <th></th>\n",
              "      <th></th>\n",
              "    </tr>\n",
              "  </thead>\n",
              "  <tbody>\n",
              "    <tr>\n",
              "      <th>2021-08-18</th>\n",
              "      <td>-0.013363</td>\n",
              "      <td>-0.004630</td>\n",
              "      <td>0.001116</td>\n",
              "    </tr>\n",
              "    <tr>\n",
              "      <th>2021-08-19</th>\n",
              "      <td>-0.010222</td>\n",
              "      <td>-0.013363</td>\n",
              "      <td>-0.004630</td>\n",
              "    </tr>\n",
              "    <tr>\n",
              "      <th>2021-08-20</th>\n",
              "      <td>0.004498</td>\n",
              "      <td>-0.010222</td>\n",
              "      <td>-0.013363</td>\n",
              "    </tr>\n",
              "    <tr>\n",
              "      <th>2021-08-21</th>\n",
              "      <td>0.005169</td>\n",
              "      <td>0.004498</td>\n",
              "      <td>-0.010222</td>\n",
              "    </tr>\n",
              "    <tr>\n",
              "      <th>2021-08-22</th>\n",
              "      <td>-0.005841</td>\n",
              "      <td>0.005169</td>\n",
              "      <td>0.004498</td>\n",
              "    </tr>\n",
              "  </tbody>\n",
              "</table>\n",
              "</div>\n",
              "      <button class=\"colab-df-convert\" onclick=\"convertToInteractive('df-cc0d5498-4aa8-4f04-89a9-6779d38d6ad4')\"\n",
              "              title=\"Convert this dataframe to an interactive table.\"\n",
              "              style=\"display:none;\">\n",
              "        \n",
              "  <svg xmlns=\"http://www.w3.org/2000/svg\" height=\"24px\"viewBox=\"0 0 24 24\"\n",
              "       width=\"24px\">\n",
              "    <path d=\"M0 0h24v24H0V0z\" fill=\"none\"/>\n",
              "    <path d=\"M18.56 5.44l.94 2.06.94-2.06 2.06-.94-2.06-.94-.94-2.06-.94 2.06-2.06.94zm-11 1L8.5 8.5l.94-2.06 2.06-.94-2.06-.94L8.5 2.5l-.94 2.06-2.06.94zm10 10l.94 2.06.94-2.06 2.06-.94-2.06-.94-.94-2.06-.94 2.06-2.06.94z\"/><path d=\"M17.41 7.96l-1.37-1.37c-.4-.4-.92-.59-1.43-.59-.52 0-1.04.2-1.43.59L10.3 9.45l-7.72 7.72c-.78.78-.78 2.05 0 2.83L4 21.41c.39.39.9.59 1.41.59.51 0 1.02-.2 1.41-.59l7.78-7.78 2.81-2.81c.8-.78.8-2.07 0-2.86zM5.41 20L4 18.59l7.72-7.72 1.47 1.35L5.41 20z\"/>\n",
              "  </svg>\n",
              "      </button>\n",
              "      \n",
              "  <style>\n",
              "    .colab-df-container {\n",
              "      display:flex;\n",
              "      flex-wrap:wrap;\n",
              "      gap: 12px;\n",
              "    }\n",
              "\n",
              "    .colab-df-convert {\n",
              "      background-color: #E8F0FE;\n",
              "      border: none;\n",
              "      border-radius: 50%;\n",
              "      cursor: pointer;\n",
              "      display: none;\n",
              "      fill: #1967D2;\n",
              "      height: 32px;\n",
              "      padding: 0 0 0 0;\n",
              "      width: 32px;\n",
              "    }\n",
              "\n",
              "    .colab-df-convert:hover {\n",
              "      background-color: #E2EBFA;\n",
              "      box-shadow: 0px 1px 2px rgba(60, 64, 67, 0.3), 0px 1px 3px 1px rgba(60, 64, 67, 0.15);\n",
              "      fill: #174EA6;\n",
              "    }\n",
              "\n",
              "    [theme=dark] .colab-df-convert {\n",
              "      background-color: #3B4455;\n",
              "      fill: #D2E3FC;\n",
              "    }\n",
              "\n",
              "    [theme=dark] .colab-df-convert:hover {\n",
              "      background-color: #434B5C;\n",
              "      box-shadow: 0px 1px 3px 1px rgba(0, 0, 0, 0.15);\n",
              "      filter: drop-shadow(0px 1px 2px rgba(0, 0, 0, 0.3));\n",
              "      fill: #FFFFFF;\n",
              "    }\n",
              "  </style>\n",
              "\n",
              "      <script>\n",
              "        const buttonEl =\n",
              "          document.querySelector('#df-cc0d5498-4aa8-4f04-89a9-6779d38d6ad4 button.colab-df-convert');\n",
              "        buttonEl.style.display =\n",
              "          google.colab.kernel.accessAllowed ? 'block' : 'none';\n",
              "\n",
              "        async function convertToInteractive(key) {\n",
              "          const element = document.querySelector('#df-cc0d5498-4aa8-4f04-89a9-6779d38d6ad4');\n",
              "          const dataTable =\n",
              "            await google.colab.kernel.invokeFunction('convertToInteractive',\n",
              "                                                     [key], {});\n",
              "          if (!dataTable) return;\n",
              "\n",
              "          const docLinkHtml = 'Like what you see? Visit the ' +\n",
              "            '<a target=\"_blank\" href=https://colab.research.google.com/notebooks/data_table.ipynb>data table notebook</a>'\n",
              "            + ' to learn more about interactive tables.';\n",
              "          element.innerHTML = '';\n",
              "          dataTable['output_type'] = 'display_data';\n",
              "          await google.colab.output.renderOutput(dataTable, element);\n",
              "          const docLink = document.createElement('div');\n",
              "          docLink.innerHTML = docLinkHtml;\n",
              "          element.appendChild(docLink);\n",
              "        }\n",
              "      </script>\n",
              "    </div>\n",
              "  </div>\n",
              "  "
            ],
            "text/plain": [
              "               Price  Price_t-1  Price_t-2\n",
              "Date                                      \n",
              "2021-08-18 -0.013363  -0.004630   0.001116\n",
              "2021-08-19 -0.010222  -0.013363  -0.004630\n",
              "2021-08-20  0.004498  -0.010222  -0.013363\n",
              "2021-08-21  0.005169   0.004498  -0.010222\n",
              "2021-08-22 -0.005841   0.005169   0.004498"
            ]
          },
          "execution_count": 67,
          "metadata": {},
          "output_type": "execute_result"
        }
      ],
      "source": [
        "### Adding columns for lagged values\n",
        "arima_df = transformed_df.copy()\n",
        "\n",
        "## AR terms \n",
        "p = 2\n",
        "\n",
        "# Creating p new columns, for p lagged values\n",
        "for i in range(1,p+1): \n",
        "    arima_df[f'Price_t-{i}'] = arima_df['Price'].shift(i)\n",
        "\n",
        "arima_df.dropna(inplace=True)\n",
        "arima_df.head()"
      ]
    },
    {
      "cell_type": "markdown",
      "metadata": {
        "id": "hSm1Twfwb23W"
      },
      "source": [
        "Hint:\n",
        "- **Seperate into `X_train` and `y_train` for linear regression**  \n",
        "- We know that AR(p) is linear regression with p lagged values, and we have created p new columns with the p lagged values        \n",
        "- `X_train` is training input that consists of the columns `Price_t-1` upto `Price_t-p` (p columns in total) \n",
        "- `y_train` is the training output (truth values) of the Price, i.e the `Price` column (Only 1 column)"
      ]
    },
    {
      "cell_type": "code",
      "execution_count": 68,
      "metadata": {
        "id": "_BFzCuv_b23X"
      },
      "outputs": [],
      "source": [
        "X_train = arima_df[['Price_t-1', 'Price_t-2']].values\n",
        "y_train = arima_df['Price'].values"
      ]
    },
    {
      "cell_type": "markdown",
      "metadata": {
        "id": "oci45QPhb23X"
      },
      "source": [
        "- Set up the Linear Regression between `X_train` and `y_train` [LR documentation](https://scikit-learn.org/stable/modules/generated/sklearn.linear_model.LinearRegression.html)      \n",
        "\n",
        "Name the `LinearRegression()` object `lr`"
      ]
    },
    {
      "cell_type": "code",
      "execution_count": 69,
      "metadata": {
        "colab": {
          "base_uri": "https://localhost:8080/"
        },
        "id": "W9TIG_WDb23Y",
        "outputId": "27656f7d-dc08-4169-9fcc-19639c7b407e"
      },
      "outputs": [
        {
          "data": {
            "text/plain": [
              "LinearRegression()"
            ]
          },
          "execution_count": 69,
          "metadata": {},
          "output_type": "execute_result"
        }
      ],
      "source": [
        "from sklearn.linear_model import LinearRegression\n",
        "lr = LinearRegression()\n",
        "lr.fit(X_train, y_train)"
      ]
    },
    {
      "cell_type": "code",
      "execution_count": 70,
      "metadata": {
        "colab": {
          "base_uri": "https://localhost:8080/"
        },
        "id": "hqROyarMb23Y",
        "outputId": "48b1866c-5a2c-471c-9bbe-c9c36a540ef5"
      },
      "outputs": [
        {
          "data": {
            "text/plain": [
              "array([ 0.57292128, -0.39148166])"
            ]
          },
          "execution_count": 70,
          "metadata": {},
          "output_type": "execute_result"
        }
      ],
      "source": [
        "lr.coef_"
      ]
    },
    {
      "cell_type": "code",
      "execution_count": 71,
      "metadata": {
        "id": "HB-fwWmob23Z"
      },
      "outputs": [],
      "source": [
        "# Adding new column with predictions using the LR coefficients. The LR Coefficients are Alpha values or AR coefficients\n",
        "arima_df['AR_Prediction'] = X_train.dot(lr.coef_.T) + lr.intercept_"
      ]
    },
    {
      "cell_type": "code",
      "execution_count": 72,
      "metadata": {
        "colab": {
          "base_uri": "https://localhost:8080/",
          "height": 296
        },
        "id": "ItlsFg7rb23Z",
        "outputId": "8f8aad13-b578-4e74-9706-7ef8aa56ef13"
      },
      "outputs": [
        {
          "data": {
            "text/plain": [
              "<matplotlib.axes._subplots.AxesSubplot at 0x7f840f04b090>"
            ]
          },
          "execution_count": 72,
          "metadata": {},
          "output_type": "execute_result"
        },
        {
          "data": {
            "image/png": "[encoded data removed]",
            "text/plain": [
              "<Figure size 432x288 with 1 Axes>"
            ]
          },
          "metadata": {
            "needs_background": "light"
          },
          "output_type": "display_data"
        }
      ],
      "source": [
        "arima_df.plot(y=['AR_Prediction', 'Price'])"
      ]
    },
    {
      "cell_type": "markdown",
      "metadata": {
        "id": "p3Stkbmjb23Z"
      },
      "source": [
        "Once you get predicitons like this using AR you would have to, undifference the predictions (which are differenced), but we will not deal with that here. \n",
        "For some hints on how to undifference the data to get actual predictions look [here](https://stackoverflow.com/questions/49903037/pandas-reverse-of-diff)"
      ]
    },
    {
      "cell_type": "markdown",
      "metadata": {
        "id": "Hdn33Szbb23a"
      },
      "source": [
        "### Problem 5 (1 Point)\n",
        "\n",
        "Phew! Just handling AR(2) manually required us to difference, apply regression, undifference. \n",
        "Let's make all of this much easier with a simple library function\n",
        "\n",
        "- **Use the ARIMA function using parameters picked to forecast values (1 point)**       \n",
        "\n",
        "Hint: Look at ARIMA function the `statstmodels`. Pass the `p,d,q` inferred from the previous tasks          \n",
        "We **DO NOT** need to pass the `transformed_df` to the ARIMA function.          \n",
        "Pass the orirginal `df` as input to ARIMA function, with the `d` value inferred when Transforming the df to make it stationary      \n",
        "The ARIMA function automatically performs the differencing based on the `d` value passed        \n",
        "Store the `.fit()` results in an object named `res`"
      ]
    },
    {
      "cell_type": "code",
      "execution_count": 73,
      "metadata": {
        "colab": {
          "base_uri": "https://localhost:8080/",
          "height": 600
        },
        "id": "YcPPWWDnb23a",
        "outputId": "89e549d8-13ad-453f-9988-c3893885f86b"
      },
      "outputs": [
        {
          "name": "stderr",
          "output_type": "stream",
          "text": [
            "/usr/local/lib/python3.7/dist-packages/statsmodels/tsa/base/tsa_model.py:527: ValueWarning: No frequency information was provided, so inferred frequency D will be used.\n",
            "  % freq, ValueWarning)\n",
            "/usr/local/lib/python3.7/dist-packages/statsmodels/tsa/base/tsa_model.py:527: ValueWarning: No frequency information was provided, so inferred frequency D will be used.\n",
            "  % freq, ValueWarning)\n",
            "/usr/local/lib/python3.7/dist-packages/statsmodels/tsa/base/tsa_model.py:527: ValueWarning: No frequency information was provided, so inferred frequency D will be used.\n",
            "  % freq, ValueWarning)\n",
            "/usr/local/lib/python3.7/dist-packages/statsmodels/base/model.py:568: ConvergenceWarning: Maximum Likelihood optimization failed to converge. Check mle_retvals\n",
            "  ConvergenceWarning)\n"
          ]
        },
        {
          "data": {
            "text/html": [
              "<table class=\"simpletable\">\n",
              "<caption>SARIMAX Results</caption>\n",
              "<tr>\n",
              "  <th>Dep. Variable:</th>         <td>Price</td>      <th>  No. Observations:  </th>    <td>366</td>   \n",
              "</tr>\n",
              "<tr>\n",
              "  <th>Model:</th>            <td>ARIMA(2, 1, 1)</td>  <th>  Log Likelihood     </th> <td>1440.153</td> \n",
              "</tr>\n",
              "<tr>\n",
              "  <th>Date:</th>            <td>Sat, 08 Oct 2022</td> <th>  AIC                </th> <td>-2872.305</td>\n",
              "</tr>\n",
              "<tr>\n",
              "  <th>Time:</th>                <td>17:08:02</td>     <th>  BIC                </th> <td>-2856.706</td>\n",
              "</tr>\n",
              "<tr>\n",
              "  <th>Sample:</th>             <td>08-15-2021</td>    <th>  HQIC               </th> <td>-2866.106</td>\n",
              "</tr>\n",
              "<tr>\n",
              "  <th></th>                   <td>- 08-15-2022</td>   <th>                     </th>     <td> </td>    \n",
              "</tr>\n",
              "<tr>\n",
              "  <th>Covariance Type:</th>        <td>opg</td>       <th>                     </th>     <td> </td>    \n",
              "</tr>\n",
              "</table>\n",
              "<table class=\"simpletable\">\n",
              "<tr>\n",
              "     <td></td>       <th>coef</th>     <th>std err</th>      <th>z</th>      <th>P>|z|</th>  <th>[0.025</th>    <th>0.975]</th>  \n",
              "</tr>\n",
              "<tr>\n",
              "  <th>ar.L1</th>  <td>   -0.0540</td> <td>    0.048</td> <td>   -1.137</td> <td> 0.256</td> <td>   -0.147</td> <td>    0.039</td>\n",
              "</tr>\n",
              "<tr>\n",
              "  <th>ar.L2</th>  <td>   -0.1093</td> <td>    0.052</td> <td>   -2.115</td> <td> 0.034</td> <td>   -0.211</td> <td>   -0.008</td>\n",
              "</tr>\n",
              "<tr>\n",
              "  <th>ma.L1</th>  <td>    0.9396</td> <td>    0.021</td> <td>   43.763</td> <td> 0.000</td> <td>    0.898</td> <td>    0.982</td>\n",
              "</tr>\n",
              "<tr>\n",
              "  <th>sigma2</th> <td> 2.201e-05</td> <td> 7.48e-07</td> <td>   29.428</td> <td> 0.000</td> <td> 2.05e-05</td> <td> 2.35e-05</td>\n",
              "</tr>\n",
              "</table>\n",
              "<table class=\"simpletable\">\n",
              "<tr>\n",
              "  <th>Ljung-Box (L1) (Q):</th>     <td>0.01</td> <th>  Jarque-Bera (JB):  </th> <td>3047.97</td>\n",
              "</tr>\n",
              "<tr>\n",
              "  <th>Prob(Q):</th>                <td>0.91</td> <th>  Prob(JB):          </th>  <td>0.00</td>  \n",
              "</tr>\n",
              "<tr>\n",
              "  <th>Heteroskedasticity (H):</th> <td>0.15</td> <th>  Skew:              </th>  <td>1.73</td>  \n",
              "</tr>\n",
              "<tr>\n",
              "  <th>Prob(H) (two-sided):</th>    <td>0.00</td> <th>  Kurtosis:          </th>  <td>16.73</td> \n",
              "</tr>\n",
              "</table><br/><br/>Warnings:<br/>[1] Covariance matrix calculated using the outer product of gradients (complex-step)."
            ],
            "text/plain": [
              "<class 'statsmodels.iolib.summary.Summary'>\n",
              "\"\"\"\n",
              "                               SARIMAX Results                                \n",
              "==============================================================================\n",
              "Dep. Variable:                  Price   No. Observations:                  366\n",
              "Model:                 ARIMA(2, 1, 1)   Log Likelihood                1440.153\n",
              "Date:                Sat, 08 Oct 2022   AIC                          -2872.305\n",
              "Time:                        17:08:02   BIC                          -2856.706\n",
              "Sample:                    08-15-2021   HQIC                         -2866.106\n",
              "                         - 08-15-2022                                         \n",
              "Covariance Type:                  opg                                         \n",
              "==============================================================================\n",
              "                 coef    std err          z      P>|z|      [0.025      0.975]\n",
              "------------------------------------------------------------------------------\n",
              "ar.L1         -0.0540      0.048     -1.137      0.256      -0.147       0.039\n",
              "ar.L2         -0.1093      0.052     -2.115      0.034      -0.211      -0.008\n",
              "ma.L1          0.9396      0.021     43.763      0.000       0.898       0.982\n",
              "sigma2      2.201e-05   7.48e-07     29.428      0.000    2.05e-05    2.35e-05\n",
              "===================================================================================\n",
              "Ljung-Box (L1) (Q):                   0.01   Jarque-Bera (JB):              3047.97\n",
              "Prob(Q):                              0.91   Prob(JB):                         0.00\n",
              "Heteroskedasticity (H):               0.15   Skew:                             1.73\n",
              "Prob(H) (two-sided):                  0.00   Kurtosis:                        16.73\n",
              "===================================================================================\n",
              "\n",
              "Warnings:\n",
              "[1] Covariance matrix calculated using the outer product of gradients (complex-step).\n",
              "\"\"\""
            ]
          },
          "execution_count": 73,
          "metadata": {},
          "output_type": "execute_result"
        }
      ],
      "source": [
        "#ARIMA\n",
        "\n",
        "d= 1\n",
        "q = 1\n",
        "\n",
        "import statsmodels.api as sm\n",
        "model = sm.tsa.arima.ARIMA(df, order=(p,d,q))\n",
        "result = model.fit()\n",
        "result.summary()"
      ]
    },
    {
      "cell_type": "code",
      "execution_count": 74,
      "metadata": {
        "colab": {
          "base_uri": "https://localhost:8080/",
          "height": 296
        },
        "id": "jAB7b45ub23b",
        "outputId": "449ee24a-0b75-47a2-f5d3-60f4fe24fdb8"
      },
      "outputs": [
        {
          "data": {
            "text/plain": [
              "<matplotlib.axes._subplots.AxesSubplot at 0x7f840efa0350>"
            ]
          },
          "execution_count": 74,
          "metadata": {},
          "output_type": "execute_result"
        },
        {
          "data": {
            "image/png": "[encoded data removed]",
            "text/plain": [
              "<Figure size 432x288 with 1 Axes>"
            ]
          },
          "metadata": {
            "needs_background": "light"
          },
          "output_type": "display_data"
        }
      ],
      "source": [
        "# Making predictions and plotting\n",
        "df['Predictions'] = list(result.predict(0, len(df)-1))\n",
        "df.plot()\n",
        "#df.head()"
      ]
    },
    {
      "cell_type": "code",
      "execution_count": 75,
      "metadata": {
        "colab": {
          "base_uri": "https://localhost:8080/",
          "height": 306
        },
        "id": "tC7RpSkDb23b",
        "outputId": "4ff7c311-be1b-4dc5-f624-6b515b132550"
      },
      "outputs": [
        {
          "data": {
            "text/plain": [
              "<matplotlib.axes._subplots.AxesSubplot at 0x7f84123f0810>"
            ]
          },
          "execution_count": 75,
          "metadata": {},
          "output_type": "execute_result"
        },
        {
          "data": {
            "image/png": "[encoded data removed]",
            "text/plain": [
              "<Figure size 432x288 with 1 Axes>"
            ]
          },
          "metadata": {
            "needs_background": "light"
          },
          "output_type": "display_data"
        }
      ],
      "source": [
        "# Forecast for 20 future dates after training data ends\n",
        "result.forecast(20).plot()"
      ]
    },
    {
      "cell_type": "markdown",
      "metadata": {
        "id": "K3RFKRbfb23b"
      },
      "source": [
        "### Problem 6 (1 point)"
      ]
    },
    {
      "cell_type": "markdown",
      "metadata": {
        "id": "OOG8v4-Kb23b"
      },
      "source": [
        "- Evaluate the ARIMA model using Ljung Box test. Based on p-value infer if the Model shows lack of fit\n",
        "\n",
        "Hint: Pass the `res.resid` (Residuals of the ARIMA model) as input the Ljung-Box Text.      \n",
        "Pass `lags=[10]`. Set `return_df=True`\n",
        "For inference, refer back to the Null and Alternate Hypotheses of Ljung-Box test. (If p value high, Null Hypothesis is significant)"
      ]
    },
    {
      "cell_type": "code",
      "execution_count": 76,
      "metadata": {
        "colab": {
          "base_uri": "https://localhost:8080/",
          "height": 81
        },
        "id": "ur6PJ8UxhUV2",
        "outputId": "ad611f1a-5d60-4aae-88e5-93bd7579f893"
      },
      "outputs": [
        {
          "data": {
            "text/html": [
              "\n",
              "  <div id=\"df-07060de0-78ba-4b81-abc0-d33f6b4a852e\">\n",
              "    <div class=\"colab-df-container\">\n",
              "      <div>\n",
              "<style scoped>\n",
              "    .dataframe tbody tr th:only-of-type {\n",
              "        vertical-align: middle;\n",
              "    }\n",
              "\n",
              "    .dataframe tbody tr th {\n",
              "        vertical-align: top;\n",
              "    }\n",
              "\n",
              "    .dataframe thead th {\n",
              "        text-align: right;\n",
              "    }\n",
              "</style>\n",
              "<table border=\"1\" class=\"dataframe\">\n",
              "  <thead>\n",
              "    <tr style=\"text-align: right;\">\n",
              "      <th></th>\n",
              "      <th>lb_stat</th>\n",
              "      <th>lb_pvalue</th>\n",
              "    </tr>\n",
              "  </thead>\n",
              "  <tbody>\n",
              "    <tr>\n",
              "      <th>10</th>\n",
              "      <td>0.929177</td>\n",
              "      <td>0.999877</td>\n",
              "    </tr>\n",
              "  </tbody>\n",
              "</table>\n",
              "</div>\n",
              "      <button class=\"colab-df-convert\" onclick=\"convertToInteractive('df-07060de0-78ba-4b81-abc0-d33f6b4a852e')\"\n",
              "              title=\"Convert this dataframe to an interactive table.\"\n",
              "              style=\"display:none;\">\n",
              "        \n",
              "  <svg xmlns=\"http://www.w3.org/2000/svg\" height=\"24px\"viewBox=\"0 0 24 24\"\n",
              "       width=\"24px\">\n",
              "    <path d=\"M0 0h24v24H0V0z\" fill=\"none\"/>\n",
              "    <path d=\"M18.56 5.44l.94 2.06.94-2.06 2.06-.94-2.06-.94-.94-2.06-.94 2.06-2.06.94zm-11 1L8.5 8.5l.94-2.06 2.06-.94-2.06-.94L8.5 2.5l-.94 2.06-2.06.94zm10 10l.94 2.06.94-2.06 2.06-.94-2.06-.94-.94-2.06-.94 2.06-2.06.94z\"/><path d=\"M17.41 7.96l-1.37-1.37c-.4-.4-.92-.59-1.43-.59-.52 0-1.04.2-1.43.59L10.3 9.45l-7.72 7.72c-.78.78-.78 2.05 0 2.83L4 21.41c.39.39.9.59 1.41.59.51 0 1.02-.2 1.41-.59l7.78-7.78 2.81-2.81c.8-.78.8-2.07 0-2.86zM5.41 20L4 18.59l7.72-7.72 1.47 1.35L5.41 20z\"/>\n",
              "  </svg>\n",
              "      </button>\n",
              "      \n",
              "  <style>\n",
              "    .colab-df-container {\n",
              "      display:flex;\n",
              "      flex-wrap:wrap;\n",
              "      gap: 12px;\n",
              "    }\n",
              "\n",
              "    .colab-df-convert {\n",
              "      background-color: #E8F0FE;\n",
              "      border: none;\n",
              "      border-radius: 50%;\n",
              "      cursor: pointer;\n",
              "      display: none;\n",
              "      fill: #1967D2;\n",
              "      height: 32px;\n",
              "      padding: 0 0 0 0;\n",
              "      width: 32px;\n",
              "    }\n",
              "\n",
              "    .colab-df-convert:hover {\n",
              "      background-color: #E2EBFA;\n",
              "      box-shadow: 0px 1px 2px rgba(60, 64, 67, 0.3), 0px 1px 3px 1px rgba(60, 64, 67, 0.15);\n",
              "      fill: #174EA6;\n",
              "    }\n",
              "\n",
              "    [theme=dark] .colab-df-convert {\n",
              "      background-color: #3B4455;\n",
              "      fill: #D2E3FC;\n",
              "    }\n",
              "\n",
              "    [theme=dark] .colab-df-convert:hover {\n",
              "      background-color: #434B5C;\n",
              "      box-shadow: 0px 1px 3px 1px rgba(0, 0, 0, 0.15);\n",
              "      filter: drop-shadow(0px 1px 2px rgba(0, 0, 0, 0.3));\n",
              "      fill: #FFFFFF;\n",
              "    }\n",
              "  </style>\n",
              "\n",
              "      <script>\n",
              "        const buttonEl =\n",
              "          document.querySelector('#df-07060de0-78ba-4b81-abc0-d33f6b4a852e button.colab-df-convert');\n",
              "        buttonEl.style.display =\n",
              "          google.colab.kernel.accessAllowed ? 'block' : 'none';\n",
              "\n",
              "        async function convertToInteractive(key) {\n",
              "          const element = document.querySelector('#df-07060de0-78ba-4b81-abc0-d33f6b4a852e');\n",
              "          const dataTable =\n",
              "            await google.colab.kernel.invokeFunction('convertToInteractive',\n",
              "                                                     [key], {});\n",
              "          if (!dataTable) return;\n",
              "\n",
              "          const docLinkHtml = 'Like what you see? Visit the ' +\n",
              "            '<a target=\"_blank\" href=https://colab.research.google.com/notebooks/data_table.ipynb>data table notebook</a>'\n",
              "            + ' to learn more about interactive tables.';\n",
              "          element.innerHTML = '';\n",
              "          dataTable['output_type'] = 'display_data';\n",
              "          await google.colab.output.renderOutput(dataTable, element);\n",
              "          const docLink = document.createElement('div');\n",
              "          docLink.innerHTML = docLinkHtml;\n",
              "          element.appendChild(docLink);\n",
              "        }\n",
              "      </script>\n",
              "    </div>\n",
              "  </div>\n",
              "  "
            ],
            "text/plain": [
              "     lb_stat  lb_pvalue\n",
              "10  0.929177   0.999877"
            ]
          },
          "execution_count": 76,
          "metadata": {},
          "output_type": "execute_result"
        }
      ],
      "source": [
        "import statsmodels.api as sm\n",
        "sm.stats.acorr_ljungbox(result.resid, lags=[10], return_df=True)"
      ]
    },
    {
      "cell_type": "markdown",
      "metadata": {
        "id": "AGUziDRpkGqy"
      },
      "source": [
        "p-value>0.05, hence null hypothesis not rejected. It can be concluded that model does not show lack of fit."
      ]
    }
  ],
  "metadata": {
    "colab": {
      "collapsed_sections": [
        "29KgUSL-b228",
        "UAeZPQj1b23H",
        "Hv8f9q4Vb23L",
        "ADvwHSuQb23M",
        "uHrEiO8ub23N",
        "i0C8sa08b23V"
      ],
      "provenance": []
    },
    "kernelspec": {
      "display_name": "Python 3",
      "language": "python",
      "name": "python3"
    },
    "language_info": {
      "codemirror_mode": {
        "name": "ipython",
        "version": 3
      },
      "file_extension": ".py",
      "mimetype": "text/x-python",
      "name": "python",
      "nbconvert_exporter": "python",
      "pygments_lexer": "ipython3",
      "version": "3.8.3"
    },
    "vscode": {
      "interpreter": {
        "hash": "b7b35159d5f3714c312bd281d072de1b51cb405758b497569d7b0919f3fae85c"
      }
    }
  },
  "nbformat": 4,
  "nbformat_minor": 0
}
